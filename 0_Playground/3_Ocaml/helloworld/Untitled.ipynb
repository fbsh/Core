{
 "cells": [
  {
   "cell_type": "code",
   "execution_count": 1,
   "id": "d8f9980b-8ea6-4025-9e8e-5085f13cd42f",
   "metadata": {},
   "outputs": [
    {
     "data": {
      "text/plain": [
       "val x : int list = [2; 6; 10; 14; 18]\n"
      ]
     },
     "execution_count": 1,
     "metadata": {},
     "output_type": "execute_result"
    }
   ],
   "source": [
    "let x = List.map (fun x -> x * 2) [1; 3; 5; 7; 9]"
   ]
  },
  {
   "cell_type": "code",
   "execution_count": 5,
   "id": "b191a299-fb0e-403a-afee-91710b7f4fef",
   "metadata": {},
   "outputs": [
    {
     "ename": "error",
     "evalue": "runtime_error",
     "output_type": "error",
     "traceback": [
      "\u001b[31mUnknown directive `require'.\n\u001b[0m"
     ]
    }
   ],
   "source": [
    "#require \"jupyter.notebook\" ;;"
   ]
  },
  {
   "cell_type": "code",
   "execution_count": 4,
   "id": "3c2d2a6e-b3dc-487c-84a5-548d402b2c7d",
   "metadata": {},
   "outputs": [
    {
     "name": "stdout",
     "output_type": "stream",
     "text": [
      "Cannot find file topfind.\n"
     ]
    }
   ],
   "source": [
    "#use \"topfind\""
   ]
  },
  {
   "cell_type": "code",
   "execution_count": null,
   "id": "05689e03-c777-48b1-b1bf-0b42a035d506",
   "metadata": {},
   "outputs": [],
   "source": []
  }
 ],
 "metadata": {
  "kernelspec": {
   "display_name": "OCaml default",
   "language": "OCaml",
   "name": "ocaml-jupyter"
  },
  "language_info": {
   "codemirror_mode": "text/x-ocaml",
   "file_extension": ".ml",
   "mimetype": "text/x-ocaml",
   "name": "OCaml",
   "nbconverter_exporter": null,
   "pygments_lexer": "OCaml",
   "version": "4.08.1"
  }
 },
 "nbformat": 4,
 "nbformat_minor": 5
}
